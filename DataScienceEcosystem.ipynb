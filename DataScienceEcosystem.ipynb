{
 "cells": [
  {
   "cell_type": "markdown",
   "id": "da2001f9-6bdf-473f-9c5f-e83996927224",
   "metadata": {},
   "source": [
    "# Data Science Tools and Ecosystem"
   ]
  },
  {
   "cell_type": "raw",
   "id": "620b9a27-d689-4275-9bc6-8302b7b5bb3d",
   "metadata": {},
   "source": [
    "#In this notebook, Data Science Tools and Ecosystem are summarized."
   ]
  },
  {
   "cell_type": "markdown",
   "id": "03cf4054-0a47-41f1-b3e0-e1b018fcde54",
   "metadata": {},
   "source": [
    "Some of the popular languages that Data Scientist use are:\n",
    "\n",
    "1. Python\n",
    "2. R\n",
    "3. Java\n",
    "4. C++\n"
   ]
  },
  {
   "cell_type": "markdown",
   "id": "0082cc05-a812-4dae-92ac-79779ea4e76b",
   "metadata": {},
   "source": [
    "Some of the commonly used libraries used by Dara Scientist include:\n",
    "\n",
    "1. NumPy\n",
    "2. Pandas\n",
    "3. Tensor Flow\n"
   ]
  },
  {
   "cell_type": "markdown",
   "id": "d502f244-d4cc-4dc4-ad94-092629c9d8af",
   "metadata": {},
   "source": [
    "\n",
    "|Data Scientist Tools|\n",
    "|--------------------|\n",
    "|Jupyter Notebook|\n",
    "|GitHub|\n",
    "|Anaconda|\n",
    "\n"
   ]
  },
  {
   "cell_type": "markdown",
   "id": "0556f5eb-2aed-4e3e-9c85-472b40ecb08f",
   "metadata": {},
   "source": [
    "### Below are a few examples of evaluating arithmetic expressions in Python\n",
    "\n",
    "\n"
   ]
  },
  {
   "cell_type": "code",
   "execution_count": 9,
   "id": "7a6622c9-816f-4a4c-a729-f0bb045ab1c0",
   "metadata": {},
   "outputs": [
    {
     "data": {
      "text/plain": [
       "17"
      ]
     },
     "execution_count": 9,
     "metadata": {},
     "output_type": "execute_result"
    }
   ],
   "source": [
    "#This is a simple arithmetic expression to multiply then add integers\n",
    "(3*4)+5\n"
   ]
  },
  {
   "cell_type": "code",
   "execution_count": 11,
   "id": "485e6eb0-109d-4c1f-90c9-974e6e0857a6",
   "metadata": {},
   "outputs": [
    {
     "data": {
      "text/plain": [
       "3.3333333333333335"
      ]
     },
     "execution_count": 11,
     "metadata": {},
     "output_type": "execute_result"
    }
   ],
   "source": [
    "#This will convert 200 minutes to hours by dividing by 60\n",
    "\n",
    "200/60"
   ]
  },
  {
   "cell_type": "markdown",
   "id": "f6615d34-b982-4204-96a9-c2092d104e63",
   "metadata": {},
   "source": [
    "#### **Objectives:**\n",
    "\n",
    "* List of popular languages for Data Science\n",
    "* Popular tools for DS\n",
    "* Examples of arithmetic operations\n"
   ]
  },
  {
   "cell_type": "markdown",
   "id": "b0c23247-b842-4d4c-b3a7-be530f900c5a",
   "metadata": {},
   "source": [
    "## Author\n",
    "FerAIR"
   ]
  },
  {
   "cell_type": "code",
   "execution_count": null,
   "id": "bd01ec7c-3686-4cf6-a4c5-f8cc86365703",
   "metadata": {},
   "outputs": [],
   "source": []
  }
 ],
 "metadata": {
  "kernelspec": {
   "display_name": "Python [conda env:base] *",
   "language": "python",
   "name": "conda-base-py"
  },
  "language_info": {
   "codemirror_mode": {
    "name": "ipython",
    "version": 3
   },
   "file_extension": ".py",
   "mimetype": "text/x-python",
   "name": "python",
   "nbconvert_exporter": "python",
   "pygments_lexer": "ipython3",
   "version": "3.12.7"
  }
 },
 "nbformat": 4,
 "nbformat_minor": 5
}
